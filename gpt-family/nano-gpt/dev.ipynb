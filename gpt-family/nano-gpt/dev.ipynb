{
 "cells": [
  {
   "cell_type": "code",
   "execution_count": 5,
   "metadata": {},
   "outputs": [],
   "source": [
    "from IPython.display import display, Markdown, Latex"
   ]
  },
  {
   "cell_type": "code",
   "execution_count": 2,
   "metadata": {},
   "outputs": [
    {
     "name": "stdout",
     "output_type": "stream",
     "text": [
      "--2024-10-18 00:26:15--  https://raw.githubusercontent.com/karpathy/char-rnn/master/data/tinyshakespeare/input.txt\n",
      "Resolving raw.githubusercontent.com (raw.githubusercontent.com)... 185.199.109.133, 185.199.110.133, 185.199.111.133, ...\n",
      "Connecting to raw.githubusercontent.com (raw.githubusercontent.com)|185.199.109.133|:443... connected.\n",
      "HTTP request sent, awaiting response... 200 OK\n",
      "Length: 1115394 (1.1M) [text/plain]\n",
      "Saving to: ‘input.txt’\n",
      "\n",
      "input.txt           100%[===================>]   1.06M  5.12MB/s    in 0.2s    \n",
      "\n",
      "2024-10-18 00:26:16 (5.12 MB/s) - ‘input.txt’ saved [1115394/1115394]\n",
      "\n"
     ]
    }
   ],
   "source": [
    "!wget https://raw.githubusercontent.com/karpathy/char-rnn/master/data/tinyshakespeare/input.txt"
   ]
  },
  {
   "cell_type": "code",
   "execution_count": 3,
   "metadata": {},
   "outputs": [],
   "source": [
    "DATA = \"data/input.txt\"\n",
    "with open(DATA) as f:\n",
    "    text = f.read()"
   ]
  },
  {
   "cell_type": "code",
   "execution_count": 6,
   "metadata": {},
   "outputs": [
    {
     "data": {
      "text/markdown": [
       "First Citizen:\n",
       "Before we proceed any further, hear me speak.\n",
       "\n",
       "All:\n",
       "Speak, speak.\n",
       "\n",
       "First Citizen:\n",
       "You are all resolved rather to die than to famish?\n",
       "\n",
       "All:\n",
       "Resolved. resolved.\n",
       "\n",
       "First Citizen:\n",
       "First, you know Caius Marcius is chief enemy to the people.\n",
       "\n",
       "All:\n",
       "We know't, we know't.\n",
       "\n",
       "First Citizen:\n",
       "Let us kill him, and we'll have corn at our own price.\n",
       "Is't a verdict?\n",
       "\n",
       "All:\n",
       "No more talking on't; let it be done: away, away!\n",
       "\n",
       "Second Citizen:\n",
       "One word, good citizens.\n",
       "\n",
       "First Citizen:\n",
       "We are accounted poor"
      ],
      "text/plain": [
       "<IPython.core.display.Markdown object>"
      ]
     },
     "metadata": {},
     "output_type": "display_data"
    }
   ],
   "source": [
    "display(Markdown(text[:500]))"
   ]
  },
  {
   "cell_type": "code",
   "execution_count": 7,
   "metadata": {},
   "outputs": [
    {
     "name": "stdout",
     "output_type": "stream",
     "text": [
      "\n",
      " !$&',-.3:;?ABCDEFGHIJKLMNOPQRSTUVWXYZabcdefghijklmnopqrstuvwxyz\n",
      "65\n"
     ]
    }
   ],
   "source": [
    "# Vocab Size - All unique characters\n",
    "chars = sorted(list(set(text)))\n",
    "vocab_size = len(chars)\n",
    "print(''.join(chars))\n",
    "print(vocab_size)"
   ]
  },
  {
   "cell_type": "markdown",
   "metadata": {},
   "source": [
    "## Tokenization"
   ]
  },
  {
   "cell_type": "code",
   "execution_count": 10,
   "metadata": {},
   "outputs": [
    {
     "name": "stdout",
     "output_type": "stream",
     "text": [
      "[20, 47, 1, 32, 46, 43, 56, 43, 2]\n",
      "Hi There!\n"
     ]
    }
   ],
   "source": [
    "# Tokenization - Mapping Characters to Integers and vice-versa\n",
    "encodings = {ch: i for i, ch in enumerate(chars)}\n",
    "decodings = {i: ch for i, ch in enumerate(chars)}\n",
    "\n",
    "encode = lambda enc_str: [encodings[char] for char in enc_str]\n",
    "decode = lambda dec_int: ''.join([decodings[i] for i in dec_int])\n",
    "\n",
    "print(encode(\"Hi There!\"))\n",
    "print(decode(encode(\"Hi There!\")))"
   ]
  },
  {
   "cell_type": "markdown",
   "metadata": {},
   "source": [
    "#### Tokenizing entire text"
   ]
  },
  {
   "cell_type": "code",
   "execution_count": 11,
   "metadata": {},
   "outputs": [
    {
     "name": "stdout",
     "output_type": "stream",
     "text": [
      "torch.Size([1115394]) torch.int64\n",
      "tensor([18, 47, 56, 57, 58,  1, 15, 47, 58, 47, 64, 43, 52, 10,  0, 14, 43, 44,\n",
      "        53, 56, 43,  1, 61, 43,  1, 54, 56, 53, 41, 43, 43, 42,  1, 39, 52, 63,\n",
      "         1, 44, 59, 56, 58, 46, 43, 56,  6,  1, 46, 43, 39, 56,  1, 51, 43,  1,\n",
      "        57, 54, 43, 39, 49,  8,  0,  0, 13, 50, 50, 10,  0, 31, 54, 43, 39, 49,\n",
      "         6,  1, 57, 54, 43, 39, 49,  8,  0,  0, 18, 47, 56, 57, 58,  1, 15, 47,\n",
      "        58, 47, 64, 43, 52, 10,  0, 37, 53, 59])\n"
     ]
    }
   ],
   "source": [
    "import torch\n",
    "\n",
    "data = torch.tensor(encode(text), dtype=torch.long)\n",
    "print(data.shape, data.dtype)\n",
    "print(data[:100])"
   ]
  },
  {
   "cell_type": "code",
   "execution_count": 12,
   "metadata": {},
   "outputs": [],
   "source": [
    "# train-val split\n",
    "split = int(0.9*len(data))\n",
    "train_data = data[:split]\n",
    "val_data = data[split:]"
   ]
  },
  {
   "cell_type": "code",
   "execution_count": 13,
   "metadata": {},
   "outputs": [
    {
     "data": {
      "text/plain": [
       "tensor([18, 47, 56, 57, 58,  1, 15, 47, 58])"
      ]
     },
     "execution_count": 13,
     "metadata": {},
     "output_type": "execute_result"
    }
   ],
   "source": [
    "block_size = 8 # Batching the input data, dont want all at once\n",
    "train_data[:block_size+1] # +1 because 9 tokens include 8 examples => a1 -> a2; a1,a2 -> a3; a1,a2,a3 -> a4"
   ]
  },
  {
   "cell_type": "code",
   "execution_count": 16,
   "metadata": {},
   "outputs": [
    {
     "name": "stdout",
     "output_type": "stream",
     "text": [
      "Input: tensor([18])\tTarget: 47\n",
      "Input: tensor([18, 47])\tTarget: 56\n",
      "Input: tensor([18, 47, 56])\tTarget: 57\n",
      "Input: tensor([18, 47, 56, 57])\tTarget: 58\n",
      "Input: tensor([18, 47, 56, 57, 58])\tTarget: 1\n",
      "Input: tensor([18, 47, 56, 57, 58,  1])\tTarget: 15\n",
      "Input: tensor([18, 47, 56, 57, 58,  1, 15])\tTarget: 47\n",
      "Input: tensor([18, 47, 56, 57, 58,  1, 15, 47])\tTarget: 58\n"
     ]
    }
   ],
   "source": [
    "X = train_data[:block_size] # input to transformer\n",
    "y = train_data[1:block_size+1] # target\n",
    "\n",
    "for t in range(block_size):\n",
    "    context = X[:t+1]\n",
    "    target = y[t]\n",
    "    print(f\"Input: {context}\\tTarget: {target}\")"
   ]
  },
  {
   "cell_type": "code",
   "execution_count": 69,
   "metadata": {},
   "outputs": [
    {
     "name": "stdout",
     "output_type": "stream",
     "text": [
      "inputs: torch.Size([4, 8])\n",
      "tensor([[46, 47, 51,  8,  0,  0, 23, 21],\n",
      "        [ 0, 13, 52, 42,  1, 52, 43, 60],\n",
      "        [46,  5, 42,  1, 49, 47, 52, 45],\n",
      "        [63, 53, 59,  8,  1, 24, 53, 56]])\n",
      "targets: torch.Size([4, 8])\n",
      "tensor([[47, 51,  8,  0,  0, 23, 21, 26],\n",
      "        [13, 52, 42,  1, 52, 43, 60, 43],\n",
      "        [ 5, 42,  1, 49, 47, 52, 45,  6],\n",
      "        [53, 59,  8,  1, 24, 53, 56, 42]])\n",
      "-----------\n",
      "32 different examples\n"
     ]
    }
   ],
   "source": [
    "torch.manual_seed(40)\n",
    "batch_size = 4 # number of contexts\n",
    "block_size = 8 # maximum context length\n",
    "\n",
    "def get_batch(split):\n",
    "    data = train_data if split=='train' else val_data\n",
    "    ix = torch.randint(len(data) - block_size, (batch_size,))\n",
    "    x = torch.stack([data[i:block_size+i] for i in ix])\n",
    "    y = torch.stack([data[i+1:block_size+i+1] for i in ix])\n",
    "    return x, y\n",
    "    \n",
    "xb, yb = get_batch('train')\n",
    "print(f'inputs: {xb.shape}\\n{xb}')\n",
    "print(f'targets: {yb.shape}\\n{yb}')\n",
    "print('-----------')\n",
    "print('32 different examples')"
   ]
  },
  {
   "cell_type": "markdown",
   "metadata": {},
   "source": [
    "### Baseline - Bigram Model"
   ]
  },
  {
   "cell_type": "code",
   "execution_count": 77,
   "metadata": {},
   "outputs": [
    {
     "name": "stdout",
     "output_type": "stream",
     "text": [
      "torch.Size([32, 65])\n",
      "tensor(4.6710, grad_fn=<NllLossBackward0>)\n"
     ]
    }
   ],
   "source": [
    "import torch\n",
    "import torch.nn as nn \n",
    "from torch.nn import functional as F \n",
    "\n",
    "class BigramLanguageModel(nn.Module):\n",
    "    \n",
    "    def __init__(self, vocab_size):\n",
    "        super().__init__()\n",
    "        self.token_embedding = nn.Embedding(vocab_size, vocab_size)\n",
    "        \n",
    "    def forward(self, idx, targets):\n",
    "        \n",
    "        # idx and targets are both (B,T) tensor of integers\n",
    "        logits = self.token_embedding(idx) # (B,T,C) (Batch, Time, Channel)\n",
    "        \n",
    "        B, T, C = logits.shape\n",
    "        logits = logits.view(B*T, C)\n",
    "        targets = targets.view(B*T)\n",
    "        loss = F.cross_entropy(logits, targets)\n",
    "        \n",
    "        return logits, loss\n",
    "    \n",
    "    def generate(self, idx, max_new_tokens):\n",
    "        \n",
    "        for _ in range(max_new_tokens):\n",
    "            \n",
    "            logits, loss = self(idx)\n",
    "            # focus on the last time step\n",
    "            logits = logits[:, -1, :] # (B, C)\n",
    "            print(logits)\n",
    "            # apply softmax to get probabilities\n",
    "            probs = F.softmax(logits, dim=-1)\n",
    "            print(probs)\n",
    "            # sample from distribution\n",
    "            idx_next = torch.multinomial(probs, num_samples=1)\n",
    "            # append sampled index to running sequence\n",
    "            idx = torch.cat((idx, idx_next), dim=1) # (B, T+1)\n",
    "            \n",
    "        return idx\n",
    "    \n",
    "model = BigramLanguageModel(vocab_size)\n",
    "logits, loss = model(xb, yb)\n",
    "print(logits.shape)\n",
    "print(loss)"
   ]
  },
  {
   "cell_type": "markdown",
   "metadata": {},
   "source": [
    "The expected loss in this case (Negative Log Likelihood)\n",
    "\n",
    "e(loss) = -(ln(1/vocab_size))\n",
    "\n",
    "-(ln(1/65)) = 4.17\n"
   ]
  },
  {
   "cell_type": "code",
   "execution_count": null,
   "metadata": {},
   "outputs": [],
   "source": []
  }
 ],
 "metadata": {
  "kernelspec": {
   "display_name": "llm-scratch",
   "language": "python",
   "name": "python3"
  },
  "language_info": {
   "codemirror_mode": {
    "name": "ipython",
    "version": 3
   },
   "file_extension": ".py",
   "mimetype": "text/x-python",
   "name": "python",
   "nbconvert_exporter": "python",
   "pygments_lexer": "ipython3",
   "version": "3.10.6"
  }
 },
 "nbformat": 4,
 "nbformat_minor": 2
}
